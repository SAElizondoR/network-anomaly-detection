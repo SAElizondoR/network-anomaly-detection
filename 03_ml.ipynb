{
 "cells": [
  {
   "cell_type": "code",
   "execution_count": 25,
   "metadata": {},
   "outputs": [],
   "source": [
    "# Función para cargar datos\n",
    "from utils import load_data\n",
    "\n",
    "import numpy as np\n",
    "import pandas as pd\n",
    "\n",
    "from pyspark.ml.feature import VectorAssembler\n",
    "from pyspark.ml.classification import RandomForestClassifier\n",
    "from pyspark.ml.evaluation \\\n",
    "    import MulticlassClassificationEvaluator\n",
    "from pyspark.ml.stat import Correlation\n",
    "from pyspark.ml.clustering import BisectingKMeans"
   ]
  },
  {
   "cell_type": "code",
   "execution_count": 5,
   "metadata": {},
   "outputs": [
    {
     "name": "stdout",
     "output_type": "stream",
     "text": [
      "./data/datasetMta33featues.csv ya existe.\n",
      "./data/datasetLeg33featues.csv ya existe.\n"
     ]
    }
   ],
   "source": [
    "# Cargar el conjunto de datos\n",
    "df = load_data()"
   ]
  },
  {
   "cell_type": "code",
   "execution_count": 16,
   "metadata": {},
   "outputs": [],
   "source": [
    "feature_columns = df.columns[:-1]\n",
    "assembler = VectorAssembler(inputCols=feature_columns,\n",
    "                            outputCol='features')\n",
    "df_features = assembler.transform(df)"
   ]
  },
  {
   "cell_type": "code",
   "execution_count": 10,
   "metadata": {},
   "outputs": [],
   "source": [
    "# Dividir en datos de entrenamiento y prueba\n",
    "train_data, test_data = df_features.randomSplit([0.7, 0.3], seed=42)"
   ]
  },
  {
   "cell_type": "code",
   "execution_count": 11,
   "metadata": {},
   "outputs": [
    {
     "name": "stderr",
     "output_type": "stream",
     "text": [
      "24/11/07 13:42:37 WARN SparkStringUtils: Truncated the string representation of a plan since it was too large. This behavior can be adjusted by setting 'spark.sql.debug.maxToStringFields'.\n"
     ]
    }
   ],
   "source": [
    "# Crear un model Random Forest\n",
    "rf = RandomForestClassifier(featuresCol='features', \\\n",
    "                            labelCol='label', numTrees=100)\n",
    "rf_model = rf.fit(train_data)"
   ]
  },
  {
   "cell_type": "code",
   "execution_count": 12,
   "metadata": {},
   "outputs": [],
   "source": [
    "# Hacer predicciones\n",
    "predictions = rf_model.transform(test_data)"
   ]
  },
  {
   "cell_type": "code",
   "execution_count": 13,
   "metadata": {},
   "outputs": [
    {
     "name": "stdout",
     "output_type": "stream",
     "text": [
      "Exactitud del modelo: 1.00\n"
     ]
    }
   ],
   "source": [
    "# Evaluar el modelo\n",
    "evaluator = MulticlassClassificationEvaluator(\n",
    "    labelCol='label', predictionCol='prediction',\n",
    "    metricName='accuracy')\n",
    "accuracy = evaluator.evaluate(predictions)\n",
    "print(f\"Exactitud del modelo: {accuracy:.2f}\")"
   ]
  },
  {
   "cell_type": "code",
   "execution_count": 17,
   "metadata": {},
   "outputs": [
    {
     "name": "stdout",
     "output_type": "stream",
     "text": [
      "Característica: FinFlagDist, Importancia: 0.05689752091597814\n",
      "Característica: SynFlagDist, Importancia: 0.0022897447782107426\n",
      "Característica: RstFlagDist, Importancia: 0.004936931927888532\n",
      "Característica: PshFlagDist, Importancia: 0.0011662681362519362\n",
      "Característica: AckFlagDist, Importancia: 0.016141176518975384\n",
      "Característica: DNSoverIP, Importancia: 0.0015809086472585985\n",
      "Característica: TCPoverIP, Importancia: 0.0019168731558581718\n",
      "Característica: UDPoverIP, Importancia: 0.00333098488829091\n",
      "Característica: MaxLen, Importancia: 0.03664544957070368\n",
      "Característica: MinLen, Importancia: 0.1333850121927852\n",
      "Característica: StdDevLen, Importancia: 0.01602198528610949\n",
      "Característica: AvgLen, Importancia: 0.012806688632856233\n",
      "Característica: MaxIAT, Importancia: 0.04602456631385576\n",
      "Característica: MinIAT, Importancia: 0.01086150963580441\n",
      "Característica: AvgIAT, Importancia: 0.016727659330627857\n",
      "Característica: AvgWinFlow, Importancia: 0.0012970512543227944\n",
      "Característica: PktsIOratio, Importancia: 0.010704748157035407\n",
      "Característica: 1stPktLen, Importancia: 0.1634244321099806\n",
      "Característica: MaxLenrx, Importancia: 0.004575109870205798\n",
      "Característica: MinLenrx, Importancia: 0.13415815196157443\n",
      "Característica: StdDevLenrx, Importancia: 0.0026464668970824965\n",
      "Característica: AvgLenrx, Importancia: 0.010046489675946676\n",
      "Característica: MinIATrx, Importancia: 0.017545678584410765\n",
      "Característica: AvgIATrx, Importancia: 0.0045386246451302095\n",
      "Característica: NumPorts, Importancia: 0.0007049442222572762\n",
      "Característica: FlowLEN, Importancia: 0.003953470369099584\n",
      "Característica: FlowLENrx, Importancia: 0.005962944798852544\n",
      "Característica: repeated_pkts_ratio, Importancia: 0.017594289424466787\n",
      "Característica: NumCon, Importancia: 0.006909239807523729\n",
      "Característica: NumIPdst, Importancia: 0.004894584162237921\n",
      "Característica: Start_flow, Importancia: 0.23486286465342898\n",
      "Característica: DeltaTimeFlow, Importancia: 0.014617228219767426\n",
      "Característica: HTTPpkts, Importancia: 0.0008304012552213527\n"
     ]
    }
   ],
   "source": [
    "# Mostrar la importancia de las características\n",
    "importances = rf_model.featureImportances\n",
    "for feature, importance in zip(feature_columns, importances):\n",
    "    print(f\"Característica: {feature}, Importancia: {importance}\")"
   ]
  },
  {
   "cell_type": "code",
   "execution_count": 20,
   "metadata": {},
   "outputs": [
    {
     "name": "stderr",
     "output_type": "stream",
     "text": [
      "[Stage 36:>                                                       (0 + 11) / 11]\r"
     ]
    },
    {
     "name": "stdout",
     "output_type": "stream",
     "text": [
      "                     FinFlagDist  SynFlagDist  RstFlagDist  PshFlagDist  \\\n",
      "FinFlagDist             1.000000     0.819528    -0.208695     0.635939   \n",
      "SynFlagDist             0.819528     1.000000    -0.274743     0.774576   \n",
      "RstFlagDist            -0.208695    -0.274743     1.000000    -0.313686   \n",
      "PshFlagDist             0.635939     0.774576    -0.313686     1.000000   \n",
      "AckFlagDist             0.697103     0.812633    -0.286266     0.931966   \n",
      "DNSoverIP               0.164405     0.223863     0.158831     0.127329   \n",
      "TCPoverIP              -0.118135    -0.174354    -0.141458    -0.090858   \n",
      "UDPoverIP               0.127132     0.186744     0.146963     0.100309   \n",
      "MaxLen                  0.523069     0.666485    -0.443542     0.798156   \n",
      "MinLen                 -0.273353    -0.249195    -0.010274    -0.206378   \n",
      "StdDevLen               0.483613     0.597880    -0.459849     0.693197   \n",
      "AvgLen                  0.367549     0.518749    -0.453969     0.778456   \n",
      "MaxIAT                  0.570751     0.577074    -0.184817     0.562102   \n",
      "MinIAT                 -0.124553    -0.151255     0.111838    -0.156833   \n",
      "AvgIAT                  0.336326     0.264934    -0.188162     0.149602   \n",
      "AvgWinFlow             -0.313060    -0.468602     0.450221    -0.792507   \n",
      "PktsIOratio            -0.134243    -0.207699     0.228259    -0.513851   \n",
      "1stPktLen               0.144582     0.166546    -0.064514     0.100924   \n",
      "MaxLenrx                0.547127     0.700890    -0.352179     0.679299   \n",
      "MinLenrx               -0.324116    -0.362067     0.232496    -0.341576   \n",
      "StdDevLenrx             0.316070     0.437049    -0.198507     0.375593   \n",
      "AvgLenrx                0.304987     0.452357    -0.138401     0.348693   \n",
      "MinIATrx               -0.191898    -0.225717     0.161970    -0.219898   \n",
      "AvgIATrx                0.217014     0.165917    -0.152450     0.100275   \n",
      "NumPorts                0.739765     0.770279    -0.014176     0.564076   \n",
      "FlowLEN                 0.616774     0.754754    -0.359394     0.935824   \n",
      "FlowLENrx               0.121761     0.146746     0.069457     0.132469   \n",
      "repeated_pkts_ratio    -0.391645    -0.510077     0.439195    -0.569412   \n",
      "NumCon                  0.157713     0.252432     0.202411     0.128075   \n",
      "NumIPdst                0.161932     0.258838     0.191581     0.141505   \n",
      "Start_flow             -0.342264    -0.292235     0.138121    -0.223874   \n",
      "DeltaTimeFlow           0.635705     0.639173    -0.174779     0.621610   \n",
      "HTTPpkts                0.380952     0.494150    -0.217762     0.440997   \n",
      "\n",
      "                     AckFlagDist  DNSoverIP  TCPoverIP  UDPoverIP    MaxLen  \\\n",
      "FinFlagDist             0.697103   0.164405  -0.118135   0.127132  0.523069   \n",
      "SynFlagDist             0.812633   0.223863  -0.174354   0.186744  0.666485   \n",
      "RstFlagDist            -0.286266   0.158831  -0.141458   0.146963 -0.443542   \n",
      "PshFlagDist             0.931966   0.127329  -0.090858   0.100309  0.798156   \n",
      "AckFlagDist             1.000000   0.191785  -0.152921   0.166443  0.757196   \n",
      "DNSoverIP               0.191785   1.000000  -0.841283   0.873682  0.057794   \n",
      "TCPoverIP              -0.152921  -0.841283   1.000000  -0.985957 -0.054040   \n",
      "UDPoverIP               0.166443   0.873682  -0.985957   1.000000  0.060753   \n",
      "MaxLen                  0.757196   0.057794  -0.054040   0.060753  1.000000   \n",
      "MinLen                 -0.284134   0.036325  -0.032754   0.037093 -0.219019   \n",
      "StdDevLen               0.653436  -0.032436   0.031599  -0.031177  0.914521   \n",
      "AvgLen                  0.696281  -0.101095   0.093695  -0.095945  0.856848   \n",
      "MaxIAT                  0.636309   0.123396  -0.123286   0.126527  0.484644   \n",
      "MinIAT                 -0.121865  -0.054466   0.048797  -0.053163 -0.188349   \n",
      "AvgIAT                  0.241387  -0.016141   0.024573  -0.027984  0.212935   \n",
      "AvgWinFlow             -0.683158   0.079354  -0.066802   0.073711 -0.763941   \n",
      "PktsIOratio            -0.471118   0.151678  -0.081350   0.091203 -0.411410   \n",
      "1stPktLen               0.094510   0.239548  -0.238541   0.245403  0.121395   \n",
      "MaxLenrx                0.702545   0.195882  -0.200297   0.211772  0.724550   \n",
      "MinLenrx               -0.375111  -0.032386   0.033772  -0.034793 -0.349011   \n",
      "StdDevLenrx             0.395052   0.212743  -0.207494   0.218301  0.417669   \n",
      "AvgLenrx                0.383134   0.363425  -0.370857   0.387282  0.385017   \n",
      "MinIATrx               -0.199255  -0.062769   0.056150  -0.061414 -0.255717   \n",
      "AvgIATrx                0.166146  -0.067046   0.066065  -0.071639  0.148359   \n",
      "NumPorts                0.634997   0.139799  -0.138039   0.140072  0.383037   \n",
      "FlowLEN                 0.956699   0.136661  -0.145217   0.150909  0.840935   \n",
      "FlowLENrx               0.160779   0.299151  -0.289438   0.290996  0.072002   \n",
      "repeated_pkts_ratio    -0.437230   0.038336  -0.010998   0.019562 -0.660415   \n",
      "NumCon                  0.237681   0.712412  -0.708385   0.736308  0.065899   \n",
      "NumIPdst                0.242421   0.697148  -0.695021   0.722287  0.071551   \n",
      "Start_flow             -0.311644   0.078420  -0.067236   0.069904 -0.285582   \n",
      "DeltaTimeFlow           0.726050   0.162399  -0.158561   0.163077  0.522208   \n",
      "HTTPpkts                0.472641   0.156404  -0.151754   0.159777  0.398060   \n",
      "\n",
      "                       MinLen  ...  AvgIATrx  NumPorts   FlowLEN  FlowLENrx  \\\n",
      "FinFlagDist         -0.273353  ...  0.217014  0.739765  0.616774   0.121761   \n",
      "SynFlagDist         -0.249195  ...  0.165917  0.770279  0.754754   0.146746   \n",
      "RstFlagDist         -0.010274  ... -0.152450 -0.014176 -0.359394   0.069457   \n",
      "PshFlagDist         -0.206378  ...  0.100275  0.564076  0.935824   0.132469   \n",
      "AckFlagDist         -0.284134  ...  0.166146  0.634997  0.956699   0.160779   \n",
      "DNSoverIP            0.036325  ... -0.067046  0.139799  0.136661   0.299151   \n",
      "TCPoverIP           -0.032754  ...  0.066065 -0.138039 -0.145217  -0.289438   \n",
      "UDPoverIP            0.037093  ... -0.071639  0.140072  0.150909   0.290996   \n",
      "MaxLen              -0.219019  ...  0.148359  0.383037  0.840935   0.072002   \n",
      "MinLen               1.000000  ... -0.276583 -0.217421 -0.252491  -0.030025   \n",
      "StdDevLen           -0.244833  ...  0.221647  0.354291  0.756760   0.024529   \n",
      "AvgLen              -0.156586  ...  0.020429  0.290045  0.850318  -0.003514   \n",
      "MaxIAT              -0.285275  ...  0.690814  0.567851  0.576725   0.044122   \n",
      "MinIAT               0.023708  ...  0.140773  0.008989 -0.132267  -0.032002   \n",
      "AvgIAT              -0.266265  ...  0.874283  0.303819  0.163446  -0.029518   \n",
      "AvgWinFlow           0.133507  ... -0.002920 -0.252623 -0.828820   0.006250   \n",
      "PktsIOratio          0.212814  ...  0.161942 -0.099042 -0.551667   0.139872   \n",
      "1stPktLen            0.505960  ... -0.175385  0.060817  0.129502   0.043940   \n",
      "MaxLenrx            -0.176149  ...  0.195789  0.411794  0.700688   0.171489   \n",
      "MinLenrx             0.505320  ... -0.230964 -0.233680 -0.355515   0.193764   \n",
      "StdDevLenrx         -0.065886  ...  0.123279  0.215656  0.369234   0.141385   \n",
      "AvgLenrx            -0.019115  ...  0.079865  0.190354  0.342437   0.348870   \n",
      "MinIATrx             0.023069  ...  0.161156 -0.073126 -0.209801  -0.028621   \n",
      "AvgIATrx            -0.276583  ...  1.000000  0.224027  0.107838  -0.031508   \n",
      "NumPorts            -0.217421  ...  0.224027  1.000000  0.558465   0.077302   \n",
      "FlowLEN             -0.252491  ...  0.107838  0.558465  1.000000   0.133483   \n",
      "FlowLENrx           -0.030025  ... -0.031508  0.077302  0.133483   1.000000   \n",
      "repeated_pkts_ratio  0.168242  ... -0.162103 -0.275367 -0.541188  -0.016807   \n",
      "NumCon               0.072803  ... -0.117070  0.068231  0.153947   0.281852   \n",
      "NumIPdst             0.061266  ... -0.087634  0.093829  0.162318   0.274865   \n",
      "Start_flow           0.623434  ... -0.332065 -0.265841 -0.269690  -0.012886   \n",
      "DeltaTimeFlow       -0.338579  ...  0.680633  0.630348  0.645060   0.101378   \n",
      "HTTPpkts             0.002722  ... -0.032474  0.336866  0.487103   0.090570   \n",
      "\n",
      "                     repeated_pkts_ratio    NumCon  NumIPdst  Start_flow  \\\n",
      "FinFlagDist                    -0.391645  0.157713  0.161932   -0.342264   \n",
      "SynFlagDist                    -0.510077  0.252432  0.258838   -0.292235   \n",
      "RstFlagDist                     0.439195  0.202411  0.191581    0.138121   \n",
      "PshFlagDist                    -0.569412  0.128075  0.141505   -0.223874   \n",
      "AckFlagDist                    -0.437230  0.237681  0.242421   -0.311644   \n",
      "DNSoverIP                       0.038336  0.712412  0.697148    0.078420   \n",
      "TCPoverIP                      -0.010998 -0.708385 -0.695021   -0.067236   \n",
      "UDPoverIP                       0.019562  0.736308  0.722287    0.069904   \n",
      "MaxLen                         -0.660415  0.065899  0.071551   -0.285582   \n",
      "MinLen                          0.168242  0.072803  0.061266    0.623434   \n",
      "StdDevLen                      -0.727923 -0.051526 -0.042373   -0.310033   \n",
      "AvgLen                         -0.642233 -0.144236 -0.129494   -0.173757   \n",
      "MaxIAT                         -0.359504  0.142457  0.167070   -0.311215   \n",
      "MinIAT                          0.119103 -0.052153 -0.050361    0.042675   \n",
      "AvgIAT                         -0.229599 -0.051376 -0.027679   -0.349531   \n",
      "AvgWinFlow                      0.645178  0.145419  0.129435    0.103627   \n",
      "PktsIOratio                     0.241285  0.177888  0.161002    0.234704   \n",
      "1stPktLen                      -0.197215  0.253264  0.231871    0.512045   \n",
      "MaxLenrx                       -0.538261  0.269497  0.255587   -0.221337   \n",
      "MinLenrx                        0.273882 -0.035306 -0.036737    0.515700   \n",
      "StdDevLenrx                    -0.333515  0.270654  0.256391   -0.073877   \n",
      "AvgLenrx                       -0.323449  0.528431  0.498242   -0.003051   \n",
      "MinIATrx                        0.180663 -0.061575 -0.061002    0.067640   \n",
      "AvgIATrx                       -0.162103 -0.117070 -0.087634   -0.332065   \n",
      "NumPorts                       -0.275367  0.068231  0.093829   -0.265841   \n",
      "FlowLEN                        -0.541188  0.153947  0.162318   -0.269690   \n",
      "FlowLENrx                      -0.016807  0.281852  0.274865   -0.012886   \n",
      "repeated_pkts_ratio             1.000000  0.100630  0.088021    0.181481   \n",
      "NumCon                          0.100630  1.000000  0.935092    0.106153   \n",
      "NumIPdst                        0.088021  0.935092  1.000000    0.109186   \n",
      "Start_flow                      0.181481  0.106153  0.109186    1.000000   \n",
      "DeltaTimeFlow                  -0.335979  0.168944  0.194587   -0.408642   \n",
      "HTTPpkts                       -0.173631  0.230376  0.223782    0.056879   \n",
      "\n",
      "                     DeltaTimeFlow  HTTPpkts  \n",
      "FinFlagDist               0.635705  0.380952  \n",
      "SynFlagDist               0.639173  0.494150  \n",
      "RstFlagDist              -0.174779 -0.217762  \n",
      "PshFlagDist               0.621610  0.440997  \n",
      "AckFlagDist               0.726050  0.472641  \n",
      "DNSoverIP                 0.162399  0.156404  \n",
      "TCPoverIP                -0.158561 -0.151754  \n",
      "UDPoverIP                 0.163077  0.159777  \n",
      "MaxLen                    0.522208  0.398060  \n",
      "MinLen                   -0.338579  0.002722  \n",
      "StdDevLen                 0.484684  0.296420  \n",
      "AvgLen                    0.356318  0.401801  \n",
      "MaxIAT                    0.945687  0.210959  \n",
      "MinIAT                    0.051409 -0.080960  \n",
      "AvgIAT                    0.783499  0.013799  \n",
      "AvgWinFlow               -0.334875 -0.370599  \n",
      "PktsIOratio              -0.190827 -0.162787  \n",
      "1stPktLen                -0.004932  0.224535  \n",
      "MaxLenrx                  0.559195  0.377472  \n",
      "MinLenrx                 -0.359939 -0.038747  \n",
      "StdDevLenrx               0.335121  0.195680  \n",
      "AvgLenrx                  0.324690  0.192765  \n",
      "MinIATrx                 -0.090176 -0.119396  \n",
      "AvgIATrx                  0.680633 -0.032474  \n",
      "NumPorts                  0.630348  0.336866  \n",
      "FlowLEN                   0.645060  0.487103  \n",
      "FlowLENrx                 0.101378  0.090570  \n",
      "repeated_pkts_ratio      -0.335979 -0.173631  \n",
      "NumCon                    0.168944  0.230376  \n",
      "NumIPdst                  0.194587  0.223782  \n",
      "Start_flow               -0.408642  0.056879  \n",
      "DeltaTimeFlow             1.000000  0.254041  \n",
      "HTTPpkts                  0.254041  1.000000  \n",
      "\n",
      "[33 rows x 33 columns]\n"
     ]
    },
    {
     "name": "stderr",
     "output_type": "stream",
     "text": [
      "                                                                                \r"
     ]
    }
   ],
   "source": [
    "# Calcular la matriz de correlación de Pearson\n",
    "matrix = Correlation.corr(df_features, \"features\", method=\"pearson\").head()[0]\n",
    "\n",
    "# Convertir la matriz a NumPy\n",
    "correlation_matrix = matrix.toArray()\n",
    "\n",
    "# Mostrar la matriz\n",
    "correlation_df = pd.DataFrame(correlation_matrix,\n",
    "                              columns=feature_columns,\n",
    "                              index=feature_columns)\n",
    "print(correlation_df)"
   ]
  },
  {
   "cell_type": "code",
   "execution_count": 22,
   "metadata": {},
   "outputs": [],
   "source": [
    "# Aplicar Bisecting K-Means\n",
    "bkm = BisectingKMeans(k=3, featuresCol=\"features\", maxIter=10)\n",
    "bkm_model = bkm.fit(df_features)"
   ]
  },
  {
   "cell_type": "code",
   "execution_count": 23,
   "metadata": {},
   "outputs": [],
   "source": [
    "# Obtener los clústeres predichos\n",
    "predictions = bkm_model.transform(df_features)"
   ]
  },
  {
   "cell_type": "code",
   "execution_count": 24,
   "metadata": {},
   "outputs": [
    {
     "name": "stdout",
     "output_type": "stream",
     "text": [
      "Centroides de Bisecting K-Means:\n",
      "[-0.92501888 -1.16518197  0.78483797 -1.23505881 -1.21864178 -0.14365254\n",
      "  0.1481422  -0.15659998 -1.36697886  0.39830942 -1.24333437 -1.1845914\n",
      " -0.90671267  0.26010852 -0.55550061  1.11386582  0.56563037 -0.278611\n",
      " -1.28665161  0.61123431 -0.80024711 -0.78801167  0.38613036 -0.40671604\n",
      " -0.67923379 -1.28340398 -0.10818519  1.07463359 -0.18912304 -0.18823397\n",
      "  0.48674221 -0.96608398 -0.72420006]\n",
      "[-0.04150767  0.06253622 -0.55758637  0.23028954  0.16481764 -0.15046359\n",
      "  0.15148392 -0.15444425  0.48383887  0.02889848  0.48568317  0.50047628\n",
      "  0.06887954 -0.07753451  0.14237785 -0.48538148 -0.19440119  0.16318841\n",
      "  0.35895299 -0.11888823  0.21519664  0.17186402 -0.12502051  0.09405166\n",
      " -0.24140569  0.28064391 -0.03915467 -0.48433791 -0.18132896 -0.19259215\n",
      " -0.00748343  0.04250504  0.14430466]\n",
      "[ 1.12086908  1.18930372  0.19802466  0.94269315  1.05114002  0.45321899\n",
      " -0.46024651  0.47549751  0.59962452 -0.5040787   0.45698775  0.36222846\n",
      "  0.88623551 -0.14227018  0.34875888 -0.31193824 -0.25936271 -0.00289938\n",
      "  0.75137034 -0.45702694  0.48294779  0.55318853 -0.19197003  0.27507953\n",
      "  1.23184725  0.89947078  0.19757466 -0.26987543  0.56418847  0.58502058\n",
      " -0.53291976  1.00413557  0.53483741]\n"
     ]
    }
   ],
   "source": [
    "# Mostrar los centroides\n",
    "centroids = bkm_model.clusterCenters()\n",
    "print(\"Centroides de Bisecting K-Means:\")\n",
    "for centroid in centroids:\n",
    "    print(centroid)"
   ]
  }
 ],
 "metadata": {
  "kernelspec": {
   "display_name": "Python 3",
   "language": "python",
   "name": "python3"
  },
  "language_info": {
   "codemirror_mode": {
    "name": "ipython",
    "version": 3
   },
   "file_extension": ".py",
   "mimetype": "text/x-python",
   "name": "python",
   "nbconvert_exporter": "python",
   "pygments_lexer": "ipython3",
   "version": "3.12.6"
  }
 },
 "nbformat": 4,
 "nbformat_minor": 2
}
